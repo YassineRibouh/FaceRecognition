{
 "cells": [
  {
   "cell_type": "code",
   "id": "initial_id",
   "metadata": {
    "collapsed": true,
    "jupyter": {
     "is_executing": true
    }
   },
   "source": [
    "import os, sys\n",
    "import json\n",
    "import tensorflow as tf"
   ],
   "outputs": [],
   "execution_count": null
  },
  {
   "metadata": {},
   "cell_type": "code",
   "source": [
    "gpus = tf.config.list_physical_devices('GPU')\n",
    "if gpus:\n",
    "    print(\"GPUs available:\", gpus)\n",
    "else:\n",
    "    print(\"No GPUs found. Using CPU.\")"
   ],
   "id": "2061aef2361615ed",
   "outputs": [],
   "execution_count": null
  },
  {
   "metadata": {},
   "cell_type": "code",
   "source": [
    "sys.path.append(os.path.abspath(os.path.join('..','data_processing')))\n",
    "sys.path.append(os.path.abspath(os.path.join('..','models')))"
   ],
   "id": "854b691a50e43f21",
   "outputs": [],
   "execution_count": null
  },
  {
   "metadata": {
    "jupyter": {
     "is_executing": true
    }
   },
   "cell_type": "code",
   "source": "from multitask_preprocessing import train_data_multiTask, validation_data_multiTask, test_data_multiTask",
   "id": "786dc6b2b8d04c37",
   "outputs": [],
   "execution_count": null
  },
  {
   "metadata": {},
   "cell_type": "code",
   "source": "from efficientnetb0 import create_efficientnetb0_multi_task",
   "id": "2534077d7721e382",
   "outputs": [],
   "execution_count": null
  },
  {
   "metadata": {},
   "cell_type": "code",
   "source": [
    "def train_and_save_multi_task_model(model_name, model_function, epochs=10, batch_size=32, learning_rate=0.001,\n",
    "                                    dropout_rate=0.2, patience=5):\n",
    "    # Define results directory for saving models and training info\n",
    "    results_dir = '../results/Multi Task'\n",
    "    model_dir = os.path.join(results_dir, model_name)\n",
    "    os.makedirs(model_dir, exist_ok=True)\n",
    "\n",
    "    # Initialize the multi-task model\n",
    "    model = model_function(dropout_rate)\n",
    "\n",
    "    # Compile the model with separate losses and metrics for each output\n",
    "    model.compile(\n",
    "        optimizer=tf.keras.optimizers.Adam(learning_rate=learning_rate),\n",
    "        loss={\n",
    "            'face_output': 'binary_crossentropy',\n",
    "            'age_output': 'sparse_categorical_crossentropy',\n",
    "            'gender_output': 'binary_crossentropy'\n",
    "        },\n",
    "        metrics={\n",
    "            'face_output': 'accuracy',\n",
    "            'age_output': 'accuracy',\n",
    "            'gender_output': 'accuracy'\n",
    "        }\n",
    "    )\n",
    "\n",
    "    # Define callbacks: Reduce learning rate if validation accuracy for any output doesn’t improve within 'patience' epochs\n",
    "    reduce_lr_callback = tf.keras.callbacks.ReduceLROnPlateau(\n",
    "        monitor='val_face_output_accuracy',  # Monitor one of the outputs\n",
    "        factor=0.5,\n",
    "        patience=patience,\n",
    "        min_lr=1e-6,\n",
    "        verbose=1\n",
    "    )\n",
    "\n",
    "    # Train the model with callbacks\n",
    "    history = model.fit(\n",
    "        train_data_multiTask,\n",
    "        validation_data=validation_data_multiTask,\n",
    "        epochs=epochs,\n",
    "        callbacks=[reduce_lr_callback],\n",
    "        verbose=1,\n",
    "        batch_size=batch_size,\n",
    "        workers=6\n",
    "    )\n",
    "\n",
    "    # Evaluate on test data for all outputs\n",
    "    test_results = model.evaluate(test_data_multiTask, verbose=1)\n",
    "\n",
    "    # Save model\n",
    "    model_path = os.path.join(model_dir, f'{model_name}.h5')\n",
    "    model.save(model_path)\n",
    "\n",
    "    # Gather training info and hyperparameters\n",
    "    training_info = {\n",
    "        \"Model\": model_name,\n",
    "        \"epochs\": epochs,\n",
    "        \"batch_size\": batch_size,\n",
    "        \"initial_learning_rate\": learning_rate,\n",
    "        \"dropout_rate\": dropout_rate,\n",
    "        \"patience\": patience,\n",
    "        \"train_accuracy_face\": history.history['face_output_accuracy'],\n",
    "        \"val_accuracy_face\": history.history['val_face_output_accuracy'],\n",
    "        \"train_loss_face\": history.history['face_output_loss'],\n",
    "        \"val_loss_face\": history.history['val_face_output_loss'],\n",
    "        \"train_accuracy_age\": history.history['age_output_accuracy'],\n",
    "        \"val_accuracy_age\": history.history['val_age_output_accuracy'],\n",
    "        \"train_loss_age\": history.history['age_output_loss'],\n",
    "        \"val_loss_age\": history.history['val_age_output_loss'],\n",
    "        \"train_accuracy_gender\": history.history['gender_output_accuracy'],\n",
    "        \"val_accuracy_gender\": history.history['val_gender_output_accuracy'],\n",
    "        \"train_loss_gender\": history.history['gender_output_loss'],\n",
    "        \"val_loss_gender\": history.history['val_gender_output_loss'],\n",
    "        \"test_accuracy_face\": test_results[3], \n",
    "        \"test_loss_face\": test_results[0],\n",
    "        \"test_accuracy_age\": test_results[5],\n",
    "        \"test_loss_age\": test_results[1],\n",
    "        \"test_accuracy_gender\": test_results[7],\n",
    "        \"test_loss_gender\": test_results[2]\n",
    "    }\n",
    "\n",
    "    # Save training info to a JSON file\n",
    "    info_path = os.path.join(model_dir, f'{model_name}_training_info.json')\n",
    "    with open(info_path, 'w') as f:\n",
    "        json.dump(training_info, f, indent=4)\n",
    "\n",
    "    print(f\"Model and training info saved in: {model_dir}\")\n",
    "    return history, training_info\n"
   ],
   "id": "468d66499e3b504a",
   "outputs": [],
   "execution_count": null
  },
  {
   "metadata": {},
   "cell_type": "code",
   "source": "train_and_save_multi_task_model('EfficientNetB0_MultiTask', create_efficientnetb0_multi_task)",
   "id": "6148fa8a24f5d8a5",
   "outputs": [],
   "execution_count": null
  }
 ],
 "metadata": {
  "kernelspec": {
   "display_name": "Python 3",
   "language": "python",
   "name": "python3"
  },
  "language_info": {
   "codemirror_mode": {
    "name": "ipython",
    "version": 2
   },
   "file_extension": ".py",
   "mimetype": "text/x-python",
   "name": "python",
   "nbconvert_exporter": "python",
   "pygments_lexer": "ipython2",
   "version": "2.7.6"
  }
 },
 "nbformat": 4,
 "nbformat_minor": 5
}
