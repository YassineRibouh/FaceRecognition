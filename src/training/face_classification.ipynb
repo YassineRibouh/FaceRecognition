{
 "cells": [
  {
   "cell_type": "markdown",
   "source": "## Train Single Task Models",
   "metadata": {
    "collapsed": false
   },
   "id": "3a2c0ffb03b8693f"
  },
  {
   "cell_type": "code",
   "id": "initial_id",
   "metadata": {
    "collapsed": true
   },
   "source": [
    "import tensorflow as tf\n",
    "import json , os , sys"
   ],
   "outputs": [],
   "execution_count": null
  },
  {
   "cell_type": "code",
   "source": [
    "sys.path.append(os.path.abspath(os.path.join('..','data_processing')))\n",
    "sys.path.append(os.path.abspath(os.path.join('..','models')))"
   ],
   "metadata": {
    "collapsed": false
   },
   "id": "497f0fb7ed013857",
   "outputs": [],
   "execution_count": null
  },
  {
   "cell_type": "code",
   "source": [
    "from preprocessing import train_data, validation_data, test_data"
   ],
   "metadata": {
    "collapsed": false
   },
   "id": "7f1969335507aac1",
   "outputs": [],
   "execution_count": null
  },
  {
   "cell_type": "code",
   "source": [
    "from efficientnetb0 import create_efficientnetb0, create_efficientnetb3"
   ],
   "metadata": {
    "collapsed": false
   },
   "id": "db4b34793af8e882",
   "outputs": [],
   "execution_count": null
  },
  {
   "cell_type": "code",
   "source": "from mobileNet import create_mobileNet",
   "metadata": {
    "collapsed": false
   },
   "id": "afe0a66799cbd42a",
   "outputs": [],
   "execution_count": null
  },
  {
   "cell_type": "code",
   "source": [
    "def train_and_save_model(model_name, model_function, dropout_rate, epochs, batch_size=32, learning_rate=0.001, patience=5):\n",
    "\n",
    "\n",
    "    results_dir = '../results/Single Task'\n",
    "    model_dir = os.path.join(results_dir, model_name)\n",
    "    os.makedirs(model_dir, exist_ok=True)\n",
    "    \n",
    "    model = model_function(dropout_rate)\n",
    "    # Compile the model with  learning rate\n",
    "    model.compile(\n",
    "        optimizer=tf.keras.optimizers.Adam(learning_rate=learning_rate),\n",
    "        loss='binary_crossentropy',\n",
    "        metrics=['accuracy']\n",
    "    )\n",
    "\n",
    "    reduce_lr_callback = tf.keras.callbacks.ReduceLROnPlateau(\n",
    "        monitor='val_accuracy',\n",
    "        factor=0.5,\n",
    "        patience=patience,\n",
    "        min_lr=1e-6,\n",
    "        verbose=1\n",
    "    )\n",
    "\n",
    "    # Train the model \n",
    "    history = model.fit(\n",
    "        train_data,\n",
    "        validation_data=validation_data,\n",
    "        epochs=epochs,\n",
    "        callbacks=[reduce_lr_callback],\n",
    "        verbose=1,\n",
    "        workers=6\n",
    "    )\n",
    "\n",
    "    # Evaluate on test data\n",
    "    test_loss, test_accuracy = model.evaluate(test_data)\n",
    "\n",
    "    # Save model\n",
    "    model_path = os.path.join(model_dir, f'{model_name}.h5')\n",
    "    model.save(model_path)\n",
    "\n",
    "    # Gather training info and hyperparameters\n",
    "    training_info = {\n",
    "        \"Model\": model_name,\n",
    "        \"epochs\": epochs,\n",
    "        \"batch_size\": batch_size,\n",
    "        \"initial_learning_rate\": learning_rate,\n",
    "        \"dropout_rate\": dropout_rate,\n",
    "        \"patience\": patience,\n",
    "        \"train_accuracy\": history.history['accuracy'],            \n",
    "        \"val_accuracy\": history.history['val_accuracy'],          \n",
    "        \"train_loss\": history.history['loss'],                    \n",
    "        \"val_loss\": history.history['val_loss'],                  \n",
    "        \"test_accuracy\": test_accuracy,                           \n",
    "        \"test_loss\": test_loss                                    \n",
    "    }\n",
    "\n",
    "    # Save training info to a JSON file\n",
    "    info_path = os.path.join(model_dir, f'{model_name}_training_info.json')\n",
    "    with open(info_path, 'w') as f:\n",
    "        json.dump(training_info, f, indent=4)\n",
    "\n",
    "    print(f\"Model and training info saved in: {model_dir}\")\n",
    "    return history, training_info"
   ],
   "metadata": {
    "collapsed": false
   },
   "id": "6f274c532b3e844f",
   "outputs": [],
   "execution_count": null
  },
  {
   "metadata": {},
   "cell_type": "code",
   "source": "train_and_save_model('EfficientNetB0_Gan', create_efficientnetb0, dropout_rate=0.2, epochs=20, batch_size=32, learning_rate=0.001, patience=5)",
   "id": "e54381ffeeae26ab",
   "outputs": [],
   "execution_count": null
  },
  {
   "metadata": {},
   "cell_type": "code",
   "source": "train_and_save_model('MobileNet_Gan', create_mobileNet, dropout_rate=0.2, epochs=20, batch_size=32, learning_rate=0.001, patience=5)",
   "id": "78fbbd0fe3b4b92c",
   "outputs": [],
   "execution_count": null
  },
  {
   "metadata": {},
   "cell_type": "code",
   "source": "",
   "id": "ad2cf425af722d97",
   "outputs": [],
   "execution_count": null
  }
 ],
 "metadata": {
  "kernelspec": {
   "display_name": "Python 3",
   "language": "python",
   "name": "python3"
  },
  "language_info": {
   "codemirror_mode": {
    "name": "ipython",
    "version": 2
   },
   "file_extension": ".py",
   "mimetype": "text/x-python",
   "name": "python",
   "nbconvert_exporter": "python",
   "pygments_lexer": "ipython2",
   "version": "2.7.6"
  }
 },
 "nbformat": 4,
 "nbformat_minor": 5
}
