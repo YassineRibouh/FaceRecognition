{
 "cells": [
  {
   "metadata": {},
   "cell_type": "markdown",
   "source": "## Training and Validation plots",
   "id": "c1739b1ced4d7e71"
  },
  {
   "metadata": {
    "ExecuteTime": {
     "end_time": "2025-01-09T00:56:18.395827Z",
     "start_time": "2025-01-09T00:56:17.660373Z"
    }
   },
   "cell_type": "code",
   "source": [
    "import json\n",
    "from pathlib import Path\n",
    "import matplotlib.pyplot as plt"
   ],
   "id": "bcbdf243fb23a681",
   "outputs": [],
   "execution_count": 1
  },
  {
   "metadata": {},
   "cell_type": "markdown",
   "source": "### Loads and parses training history data from JSON files",
   "id": "58ab782ee5e54a6c"
  },
  {
   "metadata": {},
   "cell_type": "code",
   "outputs": [],
   "execution_count": null,
   "source": [
    "def load_model_data(model_json_dict):\n",
    "    model_data = {}\n",
    "\n",
    "    for model_name, json_path_str in model_json_dict.items():\n",
    "        json_path = Path(json_path_str)\n",
    "\n",
    "        if json_path.is_file():\n",
    "            try:\n",
    "                with json_path.open(\"r\", encoding=\"utf-8\") as file:\n",
    "                    data = json.load(file)\n",
    "                    training_history = data.get(\"training_history\", {})\n",
    "                    loss = training_history.get(\"loss\", [])\n",
    "                    val_loss = training_history.get(\"val_loss\", [])\n",
    "\n",
    "                    if loss and val_loss:\n",
    "                        model_data[model_name] = {\n",
    "                            \"loss\": loss,\n",
    "                            \"val_loss\": val_loss\n",
    "                        }\n",
    "                    else:\n",
    "                        print(f\"Warning value missing in {json_path_str}\")\n",
    "            except (json.JSONDecodeError, UnicodeDecodeError) as e:\n",
    "                print(f\"Error loading {json_path_str}: {e}\")\n",
    "            except Exception as e:\n",
    "                print(f\"Unexpected error with {json_path_str}: {e}\")\n",
    "        else:\n",
    "            print(f\"File {json_path_str} does not exist\")\n",
    "\n",
    "    return model_data"
   ],
   "id": "9669aba38f88951c"
  },
  {
   "metadata": {},
   "cell_type": "markdown",
   "source": "### Plots training and validation loss curves",
   "id": "ff4d426dd3271761"
  },
  {
   "metadata": {},
   "cell_type": "code",
   "outputs": [],
   "execution_count": null,
   "source": [
    "def plot_loss_metrics(model_data):\n",
    "    if not model_data:\n",
    "        print(\"No data to plot\")\n",
    "        return\n",
    "    first_model = next(iter(model_data))\n",
    "    epochs = range(1, len(model_data[first_model][\"loss\"]) + 1)\n",
    "\n",
    "    colors = plt.cm.tab10.colors\n",
    "\n",
    "    # Plot Training Loss\n",
    "    plt.figure(figsize=(12, 6))\n",
    "    for i, (model_name, metrics) in enumerate(model_data.items()):\n",
    "        plt.plot(\n",
    "            epochs,\n",
    "            metrics[\"loss\"],\n",
    "            label=model_name,\n",
    "            color=colors[i % len(colors)],\n",
    "            linestyle='-'\n",
    "        )\n",
    "    plt.title(\"Training Loss Comparison\", fontsize=16)\n",
    "    plt.xlabel(\"Epochs\", fontsize=14)\n",
    "    plt.ylabel(\"Loss\", fontsize=14)\n",
    "    plt.legend(fontsize=12)\n",
    "    plt.grid(True)\n",
    "    plt.tight_layout()\n",
    "    plt.show()\n",
    "\n",
    "    # Plot Validation Loss\n",
    "    plt.figure(figsize=(12, 6))\n",
    "    for i, (model_name, metrics) in enumerate(model_data.items()):\n",
    "        plt.plot(\n",
    "            epochs,\n",
    "            metrics[\"val_loss\"],\n",
    "            label=model_name,\n",
    "            color=colors[i % len(colors)],\n",
    "            linestyle='--'\n",
    "        )\n",
    "    plt.title(\"Validation Loss Comparison\", fontsize=16)\n",
    "    plt.xlabel(\"Epochs\", fontsize=14)\n",
    "    plt.ylabel(\"Validation Loss\", fontsize=14)\n",
    "    plt.legend(fontsize=12)\n",
    "    plt.grid(True)\n",
    "    plt.tight_layout()\n",
    "    plt.show()"
   ],
   "id": "60580d2c3d333936"
  },
  {
   "metadata": {},
   "cell_type": "markdown",
   "source": "### Coordinates the loading of model data and visualizes loss metrics for comparison",
   "id": "4ae12a1cd790aaf9"
  },
  {
   "cell_type": "code",
   "id": "initial_id",
   "metadata": {
    "collapsed": true,
    "ExecuteTime": {
     "end_time": "2025-01-09T00:56:18.426386Z",
     "start_time": "2025-01-09T00:56:18.402985Z"
    }
   },
   "source": [
    "def analyze_models(model_json_dict):\n",
    "    model_data = load_model_data(model_json_dict)\n",
    "    if not model_data:\n",
    "        print(\"No valid model data found\")\n",
    "        return\n",
    "\n",
    "    plot_loss_metrics(model_data)"
   ],
   "outputs": [],
   "execution_count": 2
  },
  {
   "metadata": {},
   "cell_type": "markdown",
   "source": "### Example usage",
   "id": "50079aebb16b1b12"
  },
  {
   "metadata": {},
   "cell_type": "code",
   "outputs": [],
   "execution_count": null,
   "source": [
    "model_json_dict = {\n",
    "    \"Model 1\": \"models/model_1.json\",\n",
    "    \"Model 2\": \"models/model_2.json\"\n",
    "}"
   ],
   "id": "c7dea48748bc6208"
  },
  {
   "metadata": {},
   "cell_type": "code",
   "outputs": [],
   "execution_count": null,
   "source": "analyze_models(model_json_dict)",
   "id": "ddc9ac9993e84768"
  }
 ],
 "metadata": {
  "kernelspec": {
   "display_name": "Python 3",
   "language": "python",
   "name": "python3"
  },
  "language_info": {
   "codemirror_mode": {
    "name": "ipython",
    "version": 2
   },
   "file_extension": ".py",
   "mimetype": "text/x-python",
   "name": "python",
   "nbconvert_exporter": "python",
   "pygments_lexer": "ipython2",
   "version": "2.7.6"
  }
 },
 "nbformat": 4,
 "nbformat_minor": 5
}
